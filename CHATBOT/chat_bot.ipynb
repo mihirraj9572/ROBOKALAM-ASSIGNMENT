{
  "nbformat": 4,
  "nbformat_minor": 0,
  "metadata": {
    "colab": {
      "name": "chat bot.ipynb",
      "provenance": [],
      "collapsed_sections": []
    },
    "kernelspec": {
      "name": "python3",
      "display_name": "Python 3"
    },
    "accelerator": "GPU"
  },
  "cells": [
    {
      "cell_type": "code",
      "metadata": {
        "id": "o1jCByRsW89c"
      },
      "source": [
        "#This is a chat bot program \n",
        "import nltk"
      ],
      "execution_count": 1,
      "outputs": []
    },
    {
      "cell_type": "code",
      "metadata": {
        "id": "unLSDjRiXXP9"
      },
      "source": [
        "from nltk.chat.util import Chat, reflections\n"
      ],
      "execution_count": 2,
      "outputs": []
    },
    {
      "cell_type": "code",
      "metadata": {
        "id": "Hl9I93u6XhxC"
      },
      "source": [
        "pair=[\n",
        "       ['my name is (.*)',['hello %1 How can I help you?',]],\n",
        "       ['(hi|hii|hello)',['hey there']],\n",
        "       ['how are you?',['I am good\\n How about you?']],\n",
        "      ['what is your name',['My name is chatbot\\n what is your name?']],\n",
        "      ['who created you?',['Mihir Raj has ceated me using NLTK.']],\n",
        "      ['how is the weather in (.*) ?',['The weather in %1 is amazing like always']]      \n",
        "]"
      ],
      "execution_count": 3,
      "outputs": []
    },
    {
      "cell_type": "code",
      "metadata": {
        "id": "f-_OgFAFe4jO"
      },
      "source": [
        "def chats():\n",
        "  print(\"Hi, I'm ChatBox and I chat alot ;)\\nPlease type lowercase English language to start a conversation. Type quit to leave \")\n",
        "  #This is default message"
      ],
      "execution_count": 5,
      "outputs": []
    },
    {
      "cell_type": "code",
      "metadata": {
        "colab": {
          "base_uri": "https://localhost:8080/"
        },
        "id": "AZIMH2xue4mh",
        "outputId": "390bec7d-df9f-47ca-a32e-9bb29b510e58"
      },
      "source": [
        "if __name__ == \"__main__\":\n",
        "  chats()\n",
        "chat=Chat(pair,reflections)\n",
        "\n",
        "chat.converse()\n"
      ],
      "execution_count": 6,
      "outputs": [
        {
          "output_type": "stream",
          "text": [
            "Hi, I'm ChatBox and I chat alot ;)\n",
            "Please type lowercase English language to start a conversation. Type quit to leave \n",
            ">hello\n",
            "hey there\n",
            ">what is your name\n",
            "My name is chatbot\n",
            " what is your name?\n",
            ">my name is mihir raj\n",
            "hello mihir raj How can I help you?\n",
            ">who created you\n",
            "Mihir Raj has ceated me using NLTK.\n",
            ">how is the weather in india\n",
            "The weather in india is amazing like always\n",
            ">quit\n",
            "None\n"
          ],
          "name": "stdout"
        }
      ]
    },
    {
      "cell_type": "code",
      "metadata": {
        "id": "r4hExyd9nRXh"
      },
      "source": [
        ""
      ],
      "execution_count": null,
      "outputs": []
    }
  ]
}